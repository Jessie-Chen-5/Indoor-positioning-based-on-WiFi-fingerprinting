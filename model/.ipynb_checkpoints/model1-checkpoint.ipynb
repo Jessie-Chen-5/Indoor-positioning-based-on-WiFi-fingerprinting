{
 "cells": [
  {
   "cell_type": "code",
   "execution_count": null,
   "metadata": {
    "collapsed": true
   },
   "outputs": [],
   "source": [
    "train_csv_path = '../UJIndoorLoc/trainingData.csv'\n",
    "validation_csv_path = '../UJIndoorLoc/validationData.csv'"
   ]
  },
  {
   "cell_type": "code",
   "execution_count": null,
   "metadata": {
    "collapsed": true
   },
   "outputs": [],
   "source": [
    "import pandas as pd\n",
    "def load_data(filename):\n",
    "    data = pd.read_csv(filename)\n",
    "    return data.get_values().T[:520].T, data.get_values().T[[520, 521, 522, 523], :].T"
   ]
  },
  {
   "cell_type": "code",
   "execution_count": null,
   "metadata": {
    "collapsed": true
   },
   "outputs": [],
   "source": [
    "from sklearn.model_selection import train_test_split\n",
    "train_x, train_y = load_data(train_csv_path)\n",
    "test_x, test_y = load_data(validation_csv_path)"
   ]
  },
  {
   "cell_type": "code",
   "execution_count": null,
   "metadata": {
    "collapsed": true
   },
   "outputs": [],
   "source": [
    "from sklearn.preprocessing import MinMaxScaler\n",
    "longitude_scaler = MinMaxScaler()\n",
    "latitude_scaler = MinMaxScaler()\n",
    "def normalizeX(arr):\n",
    "    res = np.copy(arr).astype(np.float)\n",
    "    res[res==100] = 0\n",
    "    res[res!=100] *= -0.01\n",
    "    return res\n",
    "\n",
    "def normalizeY(longitude_arr, latitude_arr):\n",
    "    global longitude_scaler\n",
    "    global latitude_scaler\n",
    "    longitude_arr = np.reshape(longitude_arr, [-1, 1])\n",
    "    latitude_arr = np.reshape(latitude_arr, [-1, 1])\n",
    "    longitude_scaler.fit(longitude_arr)\n",
    "    latitude_scaler.fit(latitude_arr)\n",
    "    return np.reshape(longitude_scaler.transform(longitude_arr), [-1]), \\\n",
    "            np.reshape(latitude_scaler.transform(latitude_arr), [-1])\n",
    "\n",
    "def reverse_normalizeY(longitude_arr, latitude_arr):\n",
    "    global longitude_scaler\n",
    "    global latitude_scaler\n",
    "    longitude_arr = np.reshape(longitude_arr, [-1, 1])\n",
    "    latitude_arr = np.reshape(latitude_arr, [-1, 1])\n",
    "    return np.reshape(longitude_scaler.inverse_transform(longitude_arr), [-1]), \\\n",
    "            np.reshape(latitude_scaler.inverse_transform(latitude_arr), [-1])"
   ]
  },
  {
   "cell_type": "code",
   "execution_count": null,
   "metadata": {
    "collapsed": true
   },
   "outputs": [],
   "source": [
    "from keras.models import Sequential\n",
    "from keras.layers import Dense, Dropout\n",
    "class FFmodel():\n",
    "    def __init__(self):\n",
    "        "
   ]
  }
 ],
 "metadata": {
  "kernelspec": {
   "display_name": "Python 3",
   "language": "python",
   "name": "python3"
  },
  "language_info": {
   "codemirror_mode": {
    "name": "ipython",
    "version": 3
   },
   "file_extension": ".py",
   "mimetype": "text/x-python",
   "name": "python",
   "nbconvert_exporter": "python",
   "pygments_lexer": "ipython3",
   "version": "3.6.1"
  }
 },
 "nbformat": 4,
 "nbformat_minor": 2
}
